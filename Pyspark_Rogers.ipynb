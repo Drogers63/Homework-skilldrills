{
  "nbformat": 4,
  "nbformat_minor": 0,
  "metadata": {
    "colab": {
      "name": "Pyspark Rogers.ipynb",
      "provenance": [],
      "collapsed_sections": [],
      "authorship_tag": "ABX9TyNHhAifg0haU7zf30cM8Wry",
      "include_colab_link": true
    },
    "kernelspec": {
      "name": "python3",
      "display_name": "Python 3"
    },
    "language_info": {
      "name": "python"
    }
  },
  "cells": [
    {
      "cell_type": "markdown",
      "metadata": {
        "id": "view-in-github",
        "colab_type": "text"
      },
      "source": [
        "<a href=\"https://colab.research.google.com/github/Drogers63/Homework-skilldrills/blob/main/Pyspark_Rogers.ipynb\" target=\"_parent\"><img src=\"https://colab.research.google.com/assets/colab-badge.svg\" alt=\"Open In Colab\"/></a>"
      ]
    },
    {
      "cell_type": "code",
      "metadata": {
        "colab": {
          "base_uri": "https://localhost:8080/"
        },
        "id": "lC8NSjRG2A-T",
        "outputId": "f0c3aa9b-8fdc-4e97-f003-5123fcb0bf23"
      },
      "source": [
        "# activate Spark in our Colab notebook.\n",
        "import os\n",
        "# Find the latest version of spark 3.0  from http://www-us.apache.org/dist/spark/ and enter as the spark version\n",
        "# For example:\n",
        "spark_version = 'spark-3.0.2'\n",
        "# spark_version = 'spark-3.<enter version>'\n",
        "os.environ['SPARK_VERSION']=spark_version\n",
        "\n",
        "# Install Spark and Java\n",
        "!apt-get update\n",
        "!apt-get install openjdk-11-jdk-headless -qq > /dev/null\n",
        "!wget -q http://www-us.apache.org/dist/spark/$SPARK_VERSION/$SPARK_VERSION-bin-hadoop2.7.tgz\n",
        "!tar xf $SPARK_VERSION-bin-hadoop2.7.tgz\n",
        "!pip install -q findspark\n",
        "\n",
        "# Set Environment Variables\n",
        "os.environ[\"JAVA_HOME\"] = \"/usr/lib/jvm/java-11-openjdk-amd64\"\n",
        "os.environ[\"SPARK_HOME\"] = f\"/content/{spark_version}-bin-hadoop2.7\"\n",
        "\n",
        "# Start a SparkSession\n",
        "import findspark\n",
        "findspark.init()"
      ],
      "execution_count": 12,
      "outputs": [
        {
          "output_type": "stream",
          "text": [
            "\r0% [Working]\r            \rIgn:1 https://developer.download.nvidia.com/compute/cuda/repos/ubuntu1804/x86_64  InRelease\n",
            "\r0% [Connecting to archive.ubuntu.com (91.189.88.152)] [Connecting to security.u\r                                                                               \rHit:2 https://cloud.r-project.org/bin/linux/ubuntu bionic-cran40/ InRelease\n",
            "\r0% [Connecting to archive.ubuntu.com (91.189.88.152)] [Connecting to security.u\r0% [2 InRelease gpgv 3,626 B] [Connecting to archive.ubuntu.com (91.189.88.152)\r                                                                               \rIgn:3 https://developer.download.nvidia.com/compute/machine-learning/repos/ubuntu1804/x86_64  InRelease\n",
            "Hit:4 https://developer.download.nvidia.com/compute/cuda/repos/ubuntu1804/x86_64  Release\n",
            "Hit:5 https://developer.download.nvidia.com/compute/machine-learning/repos/ubuntu1804/x86_64  Release\n",
            "Hit:6 http://ppa.launchpad.net/c2d4u.team/c2d4u4.0+/ubuntu bionic InRelease\n",
            "Hit:7 http://archive.ubuntu.com/ubuntu bionic InRelease\n",
            "Hit:8 http://security.ubuntu.com/ubuntu bionic-security InRelease\n",
            "Hit:9 http://ppa.launchpad.net/cran/libgit2/ubuntu bionic InRelease\n",
            "Hit:10 http://archive.ubuntu.com/ubuntu bionic-updates InRelease\n",
            "Hit:12 http://archive.ubuntu.com/ubuntu bionic-backports InRelease\n",
            "Hit:13 http://ppa.launchpad.net/deadsnakes/ppa/ubuntu bionic InRelease\n",
            "Hit:15 http://ppa.launchpad.net/graphics-drivers/ppa/ubuntu bionic InRelease\n",
            "Reading package lists... Done\n"
          ],
          "name": "stdout"
        }
      ]
    },
    {
      "cell_type": "code",
      "metadata": {
        "id": "MNfLGIZF2U02"
      },
      "source": [
        "#import packages\n",
        "\n",
        "from pyspark.sql import SparkSession\n",
        "from pyspark.sql import Row\n",
        "from pyspark.sql.types import StructType,StructField,StringType, DateType,IntegerType\n",
        "\n",
        "# we are going to use this to time our queries.\n",
        "import time\n",
        "\n",
        "# Create a SparkSession\n",
        "spark = SparkSession.builder.appName(\"SparkSQL\").getOrCreate()"
      ],
      "execution_count": 13,
      "outputs": []
    },
    {
      "cell_type": "code",
      "metadata": {
        "id": "Nm6vT-bX2lzJ"
      },
      "source": [
        "from pyspark import SparkFiles"
      ],
      "execution_count": 14,
      "outputs": []
    },
    {
      "cell_type": "code",
      "metadata": {
        "colab": {
          "base_uri": "https://localhost:8080/"
        },
        "id": "n257S62L2o-k",
        "outputId": "5abc1cde-b3b8-4213-b9e0-e5072df17858"
      },
      "source": [
        "pp_df = spark.read.text('peterpan.txt').show()"
      ],
      "execution_count": 15,
      "outputs": [
        {
          "output_type": "stream",
          "text": [
            "+--------------------+\n",
            "|               value|\n",
            "+--------------------+\n",
            "|All children, exc...|\n",
            "|Of course they li...|\n",
            "|The way Mr. Darli...|\n",
            "|Mr. Darling used ...|\n",
            "|Mrs. Darling was ...|\n",
            "|Wendy came first,...|\n",
            "|For a week or two...|\n",
            "|“Now don't interr...|\n",
            "|“I have one pound...|\n",
            "|“Of course we can...|\n",
            "|“Remember mumps,”...|\n",
            "|There was the sam...|\n",
            "|Mrs. Darling love...|\n",
            "|No nursery could ...|\n",
            "|He had his positi...|\n",
            "|Nana also trouble...|\n",
            "|Mrs. Darling firs...|\n",
            "|I don't know whet...|\n",
            "|Of course the Nev...|\n",
            "|Of all delectable...|\n",
            "+--------------------+\n",
            "only showing top 20 rows\n",
            "\n"
          ],
          "name": "stdout"
        }
      ]
    },
    {
      "cell_type": "code",
      "metadata": {
        "colab": {
          "base_uri": "https://localhost:8080/"
        },
        "id": "0ns6VHlH4hAA",
        "outputId": "b411e2cf-ca6e-4d1d-935b-73fcf6801c41"
      },
      "source": [
        "#Read input file and calculate \n",
        "from operator import add\n",
        "data = spark.sparkContext.textFile('peterpan.txt')\n",
        "data_split = data.flatMap(lambda line: line.split(\" \"))\n",
        "count = data_split.map(lambda word: (word, 1))\n",
        "counts = count.reduceByKey(add)\n",
        "\n",
        "# output file\n",
        "counts.saveAsTextFile('petepanwords.txt')\n",
        "spark.read.text('petepanwords.txt').show()"
      ],
      "execution_count": 17,
      "outputs": [
        {
          "output_type": "stream",
          "text": [
            "+--------------+\n",
            "|         value|\n",
            "+--------------+\n",
            "|  ('one,', 15)|\n",
            "| ('They', 101)|\n",
            "|  ('know', 64)|\n",
            "|   ('way', 58)|\n",
            "|  ('was', 897)|\n",
            "|    ('One', 9)|\n",
            "| ('when', 151)|\n",
            "|   ('two', 36)|\n",
            "|  ('years', 3)|\n",
            "|   ('in', 623)|\n",
            "|('garden,', 1)|\n",
            "|('plucked', 2)|\n",
            "| ('flower', 2)|\n",
            "|   ('ran', 17)|\n",
            "|  ('her', 361)|\n",
            "|('suppose', 7)|\n",
            "|  ('must', 59)|\n",
            "| ('have', 243)|\n",
            "|('looked', 33)|\n",
            "|('rather', 40)|\n",
            "+--------------+\n",
            "only showing top 20 rows\n",
            "\n"
          ],
          "name": "stdout"
        }
      ]
    },
    {
      "cell_type": "code",
      "metadata": {
        "id": "9goj9j6E5ORL"
      },
      "source": [
        ""
      ],
      "execution_count": null,
      "outputs": []
    }
  ]
}